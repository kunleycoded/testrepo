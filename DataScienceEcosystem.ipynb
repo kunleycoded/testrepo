{
 "cells": [
  {
   "cell_type": "markdown",
   "id": "de2b0300",
   "metadata": {},
   "source": [
    "# Data Science Tools and Ecosystem"
   ]
  },
  {
   "cell_type": "markdown",
   "id": "2d04b03c",
   "metadata": {},
   "source": [
    "# Introduction\n",
    "\n",
    "In this notebook, Data Science Tools and Ecosystem are summarized. Explore the key tools, languages, and frameworks that contribute to the vibrant and evolving field of data science. From popular programming languages to essential libraries, this overview aims to provide a concise glimpse into the rich ecosystem empowering data scientists in their analyses and discoveries."
   ]
  },
  {
   "cell_type": "markdown",
   "id": "6398f2e6",
   "metadata": {},
   "source": [
    "Some of the popular languages that Data Scientists use are:\n",
    "\n",
    "1. **Python:** Widely adopted for its simplicity and extensive libraries, Python is a go-to language for tasks ranging from data analysis to machine learning.\n",
    "\n",
    "2. **R:** Particularly favored for statistical analysis and visualization, R provides a rich ecosystem of packages for data exploration and modeling.\n",
    "\n",
    "3. **Julia:** Known for its high-performance capabilities, Julia is gaining popularity in data science, especially for tasks requiring fast numerical computations.\n",
    "\n",
    "4. **SQL:** While not a traditional programming language, SQL (Structured Query Language) is essential for working with databases and managing large datasets.\n"
   ]
  },
  {
   "cell_type": "markdown",
   "id": "9d409c6b",
   "metadata": {},
   "source": [
    "# Data Science Libraries\n",
    "\n",
    "Some of the commonly used libraries by Data Scientists include:\n",
    "\n",
    "1. **NumPy:** A fundamental library for numerical computing in Python, providing support for large, multi-dimensional arrays and matrices, along with mathematical functions.\n",
    "\n",
    "2. **Pandas:** A powerful data manipulation and analysis library, Pandas is widely used for working with structured data through its DataFrame object.\n",
    "\n",
    "3. **Scikit-learn:** An open-source machine learning library in Python, Scikit-learn provides simple and efficient tools for data mining and data analysis, built on NumPy, SciPy, and Matplotlib.\n",
    "\n",
    "4. **TensorFlow:** Developed by Google, TensorFlow is an open-source machine learning framework widely used for building and training deep learning models.\n",
    "\n",
    "5. **Matplotlib:** A versatile plotting library for Python, Matplotlib is essential for creating static, animated, and interactive visualizations in data science projects.\n"
   ]
  },
  {
   "cell_type": "markdown",
   "id": "35924660",
   "metadata": {},
   "source": [
    "# Data Science Tools\n",
    "\n",
    "| Data Science Tools           |\n",
    "| ---------------------------- |\n",
    "| Jupyter Notebooks            |\n",
    "| RStudio                       |\n",
    "| VSCode with Data Science Extension |"
   ]
  },
  {
   "cell_type": "markdown",
   "id": "8c72ac83",
   "metadata": {},
   "source": [
    "### Below are a few examples of evaluating arithmetic expressions in Python\n",
    "\n",
    "In this section, we'll explore a few examples of evaluating arithmetic expressions in Python. Understanding how to perform basic arithmetic operations is fundamental in various data science and programming tasks. Let's delve into some examples to illustrate these concepts.\n"
   ]
  },
  {
   "cell_type": "code",
   "execution_count": 3,
   "id": "78a53822",
   "metadata": {},
   "outputs": [
    {
     "name": "stdout",
     "output_type": "stream",
     "text": [
      "Result: 17\n"
     ]
    }
   ],
   "source": [
    "# This is a simple arithmetic expression to multiply then add integers.\n",
    "result = (3 * 4) + 5\n",
    "print(\"Result:\", result)"
   ]
  },
  {
   "cell_type": "code",
   "execution_count": 4,
   "id": "e04e6369",
   "metadata": {},
   "outputs": [
    {
     "name": "stdout",
     "output_type": "stream",
     "text": [
      "200 minutes is equal to 3.3333333333333335 hours\n"
     ]
    }
   ],
   "source": [
    "# This will convert 200 minutes to hours by dividing by 60.\n",
    "minutes = 200\n",
    "hours = minutes / 60\n",
    "print(\"200 minutes is equal to\", hours, \"hours\")"
   ]
  },
  {
   "cell_type": "markdown",
   "id": "6fb55d51",
   "metadata": {},
   "source": [
    "# Objectives:\n",
    "\n",
    "- **List popular languages for Data Science**\n",
    "- **Introduce common data science libraries**\n",
    "- **Explore open-source development environment tools**\n",
    "- **Demonstrate arithmetic expression examples in Python**\n",
    "- **Illustrate the conversion of minutes to hours in Python**"
   ]
  },
  {
   "cell_type": "markdown",
   "id": "08d88dea",
   "metadata": {},
   "source": [
    "## Author\n",
    "\n",
    "Okunade Abass Adekunle\n"
   ]
  },
  {
   "cell_type": "code",
   "execution_count": null,
   "id": "9dcc6fd7",
   "metadata": {},
   "outputs": [],
   "source": []
  }
 ],
 "metadata": {
  "kernelspec": {
   "display_name": "Python 3 (ipykernel)",
   "language": "python",
   "name": "python3"
  },
  "language_info": {
   "codemirror_mode": {
    "name": "ipython",
    "version": 3
   },
   "file_extension": ".py",
   "mimetype": "text/x-python",
   "name": "python",
   "nbconvert_exporter": "python",
   "pygments_lexer": "ipython3",
   "version": "3.11.5"
  }
 },
 "nbformat": 4,
 "nbformat_minor": 5
}
